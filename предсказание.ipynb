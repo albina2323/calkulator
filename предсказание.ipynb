{
  "nbformat": 4,
  "nbformat_minor": 0,
  "metadata": {
    "colab": {
      "provenance": [],
      "authorship_tag": "ABX9TyMWY5apo/2NLL9a54HMNCDo",
      "include_colab_link": true
    },
    "kernelspec": {
      "name": "python3",
      "display_name": "Python 3"
    },
    "language_info": {
      "name": "python"
    }
  },
  "cells": [
    {
      "cell_type": "markdown",
      "metadata": {
        "id": "view-in-github",
        "colab_type": "text"
      },
      "source": [
        "<a href=\"https://colab.research.google.com/github/albina2323/calkulator/blob/main/%D0%BF%D1%80%D0%B5%D0%B4%D1%81%D0%BA%D0%B0%D0%B7%D0%B0%D0%BD%D0%B8%D0%B5.ipynb\" target=\"_parent\"><img src=\"https://colab.research.google.com/assets/colab-badge.svg\" alt=\"Open In Colab\"/></a>"
      ]
    },
    {
      "cell_type": "code",
      "source": [
        "import numpy as np\n",
        "import matplotlib.pyplot as plt\n",
        "from tensorflow.keras.datasets import mnist\n",
        "from tensorflow import keras\n",
        "from tensorflow.keras.layers import Dense, Flatten\n",
        "\n",
        "def load_and_prepare_data():\n",
        "    \"\"\"Загружает и нормализует данные MNIST.\"\"\"\n",
        "    (x_train, y_train), (x_test, y_test) = mnist.load_data()\n",
        "    x_train, x_test = x_train / 255.0, x_test / 255.0  # Нормализация\n",
        "    return (x_train, y_train), (x_test, y_test)\n",
        "\n",
        "def build_model():\n",
        "    \"\"\"Создаёт и компилирует нейросетевую модель.\"\"\"\n",
        "    model = keras.Sequential([\n",
        "        Flatten(input_shape=(28, 28)),\n",
        "        Dense(128, activation='relu'),\n",
        "        Dense(10, activation='softmax')\n",
        "    ])\n",
        "\n",
        "    model.compile(\n",
        "        optimizer='adam',\n",
        "        loss='sparse_categorical_crossentropy',\n",
        "        metrics=['accuracy']\n",
        "    )\n",
        "    return model\n",
        "\n",
        "def train_model(model, x_train, y_train):\n",
        "    \"\"\"Обучает модель.\"\"\"\n",
        "    model.fit(x_train, y_train, batch_size=32, epochs=5, validation_split=0.2)\n",
        "\n",
        "def evaluate_model(model, x_test, y_test):\n",
        "    \"\"\"Оценивает точность модели на тестовых данных.\"\"\"\n",
        "    test_loss, test_accuracy = model.evaluate(x_test, y_test)\n",
        "    print(f\"Точность на тестовых данных: {test_accuracy * 100:.2f}%\")\n",
        "\n",
        "def predict_digit(model, x_test, y_test, digit):\n",
        "    \"\"\"Ищет первую встреченную цифру и предсказывает её.\"\"\"\n",
        "    for i in range(len(y_test)):\n",
        "        if y_test[i] == digit:\n",
        "            x = np.expand_dims(x_test[i], axis=0)\n",
        "            prediction = model.predict(x)\n",
        "            predicted_digit = np.argmax(prediction[0])\n",
        "\n",
        "            print(f\"Число на изображении: {y_test[i]}, Предсказание: {predicted_digit}\")\n",
        "\n",
        "            plt.figure(figsize=(6, 3))\n",
        "            plt.subplot(1, 2, 1)\n",
        "            plt.imshow(x_test[i], cmap=plt.cm.binary)\n",
        "            plt.title(f\"Число: {y_test[i]}\")\n",
        "\n",
        "            plt.subplot(1, 2, 2)\n",
        "            plt.bar(range(10), prediction[0])\n",
        "            plt.title(f\"Предсказание: {predicted_digit}\")\n",
        "            plt.xlabel(\"Цифры\")\n",
        "            plt.ylabel(\"Вероятность\")\n",
        "            plt.show()\n",
        "\n",
        "            return predicted_digit\n",
        "\n",
        "    print(f\"Цифра {digit} не найдена в тестовых данных.\")\n",
        "    return None\n",
        "\n",
        "# Запуск процесса обучения и тестирования\n",
        "(x_train, y_train), (x_test, y_test) = load_and_prepare_data()\n",
        "model = build_model()\n",
        "train_model(model, x_train, y_train)\n",
        "evaluate_model(model, x_test, y_test)\n",
        "\n",
        "user_digit = int(input(\"Введите цифру (0-9), которую хотите предсказать: \"))\n",
        "predict_digit(model, x_test, y_test, user_digit)\n"
      ],
      "metadata": {
        "colab": {
          "base_uri": "https://localhost:8080/",
          "height": 722
        },
        "id": "MpljtRwqo93o",
        "outputId": "b32d577f-3372-4470-8d7c-3328791d870b"
      },
      "execution_count": 1,
      "outputs": [
        {
          "output_type": "stream",
          "name": "stdout",
          "text": [
            "Downloading data from https://storage.googleapis.com/tensorflow/tf-keras-datasets/mnist.npz\n",
            "\u001b[1m11490434/11490434\u001b[0m \u001b[32m━━━━━━━━━━━━━━━━━━━━\u001b[0m\u001b[37m\u001b[0m \u001b[1m0s\u001b[0m 0us/step\n"
          ]
        },
        {
          "output_type": "stream",
          "name": "stderr",
          "text": [
            "/usr/local/lib/python3.11/dist-packages/keras/src/layers/reshaping/flatten.py:37: UserWarning: Do not pass an `input_shape`/`input_dim` argument to a layer. When using Sequential models, prefer using an `Input(shape)` object as the first layer in the model instead.\n",
            "  super().__init__(**kwargs)\n"
          ]
        },
        {
          "output_type": "stream",
          "name": "stdout",
          "text": [
            "Epoch 1/5\n",
            "\u001b[1m1500/1500\u001b[0m \u001b[32m━━━━━━━━━━━━━━━━━━━━\u001b[0m\u001b[37m\u001b[0m \u001b[1m15s\u001b[0m 9ms/step - accuracy: 0.8594 - loss: 0.4768 - val_accuracy: 0.9552 - val_loss: 0.1558\n",
            "Epoch 2/5\n",
            "\u001b[1m1500/1500\u001b[0m \u001b[32m━━━━━━━━━━━━━━━━━━━━\u001b[0m\u001b[37m\u001b[0m \u001b[1m8s\u001b[0m 5ms/step - accuracy: 0.9608 - loss: 0.1311 - val_accuracy: 0.9635 - val_loss: 0.1265\n",
            "Epoch 3/5\n",
            "\u001b[1m1500/1500\u001b[0m \u001b[32m━━━━━━━━━━━━━━━━━━━━\u001b[0m\u001b[37m\u001b[0m \u001b[1m11s\u001b[0m 6ms/step - accuracy: 0.9743 - loss: 0.0889 - val_accuracy: 0.9718 - val_loss: 0.0939\n",
            "Epoch 4/5\n",
            "\u001b[1m1500/1500\u001b[0m \u001b[32m━━━━━━━━━━━━━━━━━━━━\u001b[0m\u001b[37m\u001b[0m \u001b[1m10s\u001b[0m 6ms/step - accuracy: 0.9834 - loss: 0.0571 - val_accuracy: 0.9746 - val_loss: 0.0848\n",
            "Epoch 5/5\n",
            "\u001b[1m1500/1500\u001b[0m \u001b[32m━━━━━━━━━━━━━━━━━━━━\u001b[0m\u001b[37m\u001b[0m \u001b[1m7s\u001b[0m 5ms/step - accuracy: 0.9864 - loss: 0.0441 - val_accuracy: 0.9762 - val_loss: 0.0820\n",
            "\u001b[1m313/313\u001b[0m \u001b[32m━━━━━━━━━━━━━━━━━━━━\u001b[0m\u001b[37m\u001b[0m \u001b[1m1s\u001b[0m 4ms/step - accuracy: 0.9715 - loss: 0.0896\n",
            "Точность на тестовых данных: 97.53%\n",
            "Введите цифру (0-9), которую хотите предсказать: 8\n",
            "\u001b[1m1/1\u001b[0m \u001b[32m━━━━━━━━━━━━━━━━━━━━\u001b[0m\u001b[37m\u001b[0m \u001b[1m0s\u001b[0m 72ms/step\n",
            "Число на изображении: 8, Предсказание: 2\n"
          ]
        },
        {
          "output_type": "display_data",
          "data": {
            "text/plain": [
              "<Figure size 600x300 with 2 Axes>"
            ],
            "image/png": "[encoded data removed]"
          },
          "metadata": {}
        },
        {
          "output_type": "execute_result",
          "data": {
            "text/plain": [
              "2"
            ]
          },
          "metadata": {},
          "execution_count": 1
        }
      ]
    }
  ]
}